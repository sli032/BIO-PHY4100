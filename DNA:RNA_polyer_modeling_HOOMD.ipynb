{
  "cells": [
    {
      "cell_type": "markdown",
      "metadata": {
        "id": "view-in-github",
        "colab_type": "text"
      },
      "source": [
        "<a href=\"https://colab.research.google.com/github/sli032/BIO-PHY4100/blob/main/DNA%3ARNA_polyer_modeling_HOOMD.ipynb\" target=\"_parent\"><img src=\"https://colab.research.google.com/assets/colab-badge.svg\" alt=\"Open In Colab\"/></a>"
      ]
    },
    {
      "cell_type": "markdown",
      "metadata": {
        "id": "ipbNfW6Gdlvu"
      },
      "source": [
        "## Installation & Render code\n",
        "\n",
        "Run the code only once, then click the arrow to hide them."
      ]
    },
    {
      "cell_type": "code",
      "source": [
        "!pip install -q condacolab\n",
        "import condacolab\n",
        "condacolab.install()"
      ],
      "metadata": {
        "colab": {
          "base_uri": "https://localhost:8080/"
        },
        "id": "-xtGHK-zw7Bq",
        "outputId": "cf4a3a41-44aa-4beb-a60c-bd0bc7e148af"
      },
      "execution_count": 1,
      "outputs": [
        {
          "output_type": "stream",
          "name": "stdout",
          "text": [
            "✨🍰✨ Everything looks OK!\n"
          ]
        }
      ]
    },
    {
      "cell_type": "code",
      "source": [
        "!conda install -c conda-forge hoomd gsd"
      ],
      "metadata": {
        "collapsed": true,
        "id": "SgsvHo0_wv6g"
      },
      "execution_count": null,
      "outputs": []
    },
    {
      "cell_type": "code",
      "source": [
        "!conda install -c conda-forge fresnel freud"
      ],
      "metadata": {
        "collapsed": true,
        "id": "vxZ09ZKcx6i-"
      },
      "execution_count": null,
      "outputs": []
    },
    {
      "cell_type": "code",
      "execution_count": 4,
      "metadata": {
        "id": "6tgEPJG-dlvv"
      },
      "outputs": [],
      "source": [
        "import math\n",
        "import warnings\n",
        "\n",
        "import fresnel\n",
        "import freud\n",
        "import gsd.hoomd\n",
        "import hoomd\n",
        "import IPython\n",
        "import matplotlib\n",
        "import numpy\n",
        "import packaging.version\n",
        "\n",
        "device = fresnel.Device()\n",
        "tracer = fresnel.tracer.Path(device=device, w=400, h=400)\n",
        "\n",
        "FRESNEL_MIN_VERSION = packaging.version.parse(\"0.13.0\")\n",
        "FRESNEL_MAX_VERSION = packaging.version.parse(\"0.14.0\")\n",
        "\n",
        "\n",
        "def render(snapshot):\n",
        "    if ('version' not in dir(fresnel) or packaging.version.parse(\n",
        "            fresnel.version.version) < FRESNEL_MIN_VERSION\n",
        "            or packaging.version.parse(\n",
        "                fresnel.version.version) >= FRESNEL_MAX_VERSION):\n",
        "        warnings.warn(\n",
        "            f\"Unsupported fresnel version {fresnel.version.version} - expect errors.\"\n",
        "        )\n",
        "    L = snapshot.configuration.box[0]\n",
        "    scene = fresnel.Scene(device)\n",
        "    geometry = fresnel.geometry.Sphere(scene,\n",
        "                                       N=len(snapshot.particles.position),\n",
        "                                       radius=0.5)\n",
        "    geometry.material = fresnel.material.Material(color=fresnel.color.linear(\n",
        "        [252 / 255, 209 / 255, 1 / 255]),\n",
        "                                                  roughness=0.5)\n",
        "    geometry.position[:] = snapshot.particles.position[:]\n",
        "    geometry.outline_width = 0.04\n",
        "\n",
        "    if (hasattr(snapshot, 'log')\n",
        "            and 'particles/md/pair/LJ/energies' in snapshot.log):\n",
        "        energies = snapshot.log['particles/md/pair/LJ/energies']\n",
        "        mapper = matplotlib.cm.ScalarMappable(\n",
        "            norm=matplotlib.colors.Normalize(vmin=numpy.min(energies),\n",
        "                                             vmax=numpy.max(energies),\n",
        "                                             clip=True),\n",
        "            cmap=matplotlib.cm.get_cmap(name='viridis'))\n",
        "        geometry.color[:] = fresnel.color.linear(mapper.to_rgba(energies))\n",
        "        geometry.material.primitive_color_mix = 1\n",
        "\n",
        "    box = fresnel.geometry.Box(scene, [L, L, L, 0, 0, 0], box_radius=.02)\n",
        "\n",
        "    scene.lights = [\n",
        "        fresnel.light.Light(direction=(0, 0, 1),\n",
        "                            color=(0.8, 0.8, 0.8),\n",
        "                            theta=math.pi),\n",
        "        fresnel.light.Light(direction=(1, 1, 1),\n",
        "                            color=(1.1, 1.1, 1.1),\n",
        "                            theta=math.pi / 3)\n",
        "    ]\n",
        "    scene.camera = fresnel.camera.Orthographic(position=(L * 2, L, L * 2),\n",
        "                                               look_at=(0, 0, 0),\n",
        "                                               up=(0, 1, 0),\n",
        "                                               height=L * 1.4 + 1)\n",
        "    scene.background_color = (1, 1, 1)\n",
        "    return IPython.display.Image(tracer.sample(scene, samples=20)._repr_png_())\n",
        "\n",
        "\n",
        "warnings.filterwarnings('ignore', module='hoomd')"
      ]
    },
    {
      "cell_type": "markdown",
      "metadata": {
        "id": "c9vepx8Sdlvu"
      },
      "source": [
        "# Introducing molecular dynamics\n",
        "\n",
        "This hands-on workshop introduces the basic concepts of HOOMD-blue and will teach you how to run a molecular dynamics simulation. For more details, information that may be helpful when completing the exercises, see the [HOOMD-blue documentation](https://hoomd-blue.readthedocs.io/).\n",
        "\n",
        "**Google Colab users:** Click the \"Copy to Drive\" button in the toolbar to save this notebook and any edits that you make to your Google Drive."
      ]
    },
    {
      "cell_type": "markdown",
      "metadata": {
        "id": "9dBWj47Ddlvv"
      },
      "source": [
        "## Create the simulation and initial state\n"
      ]
    },
    {
      "cell_type": "code",
      "execution_count": 5,
      "metadata": {
        "id": "fuxmsl2gdlvv"
      },
      "outputs": [],
      "source": [
        "cpu = hoomd.device.CPU()\n",
        "sim = hoomd.Simulation(device=cpu, seed=2)"
      ]
    },
    {
      "cell_type": "code",
      "source": [
        "snapshot = hoomd.Snapshot()\n",
        "\n",
        "a = 1\n",
        "chainN = 50\n",
        "\n",
        "particles = [[0.,0.,0.]]\n",
        "step = numpy.array([-a, 0., 0.])\n",
        "turnstep = numpy.array([0., a, 0.])\n",
        "upstep = numpy.array([0., 0., a])\n",
        "for i in range(1, chainN):\n",
        "  if i % 5 == 0:\n",
        "    step = -step\n",
        "    if (i/5) % 5 == 0:\n",
        "      particles.append(particles[-1] + upstep)\n",
        "      turnstep = -turnstep\n",
        "    else:\n",
        "      particles.append(particles[-1] + turnstep)\n",
        "  else:\n",
        "    particles.append(particles[-1] + step)\n",
        "bonds = [[i, i+1] for i in range(chainN - 1)]\n",
        "angles = [[i, i+1, i+2] for i in range(chainN - 2)]\n",
        "\n",
        "\n",
        "snapshot.particles.N = len(particles)\n",
        "snapshot.particles.position[:] = particles\n",
        "snapshot.particles.types = ['A']\n",
        "\n",
        "snapshot.bonds.N = len(bonds)\n",
        "snapshot.bonds.group[:] = bonds\n",
        "snapshot.bonds.types = ['bond']\n",
        "\n",
        "\n",
        "snapshot.angles.N = len(angles)\n",
        "snapshot.angles.group[:] = angles\n",
        "snapshot.angles.types = ['bend']\n",
        "\n",
        "snapshot.configuration.box = [50, 50, 50, 0, 0, 0]\n",
        "render(snapshot)"
      ],
      "metadata": {
        "id": "sy1DBpnF5HPp",
        "outputId": "1db6a9ba-0134-42f1-b82a-3efb57219d65",
        "colab": {
          "base_uri": "https://localhost:8080/",
          "height": 417
        }
      },
      "execution_count": 6,
      "outputs": [
        {
          "output_type": "execute_result",
          "data": {
            "image/png": "[encoded data removed]",
            "text/plain": [
              "<IPython.core.display.Image object>"
            ]
          },
          "metadata": {},
          "execution_count": 6
        }
      ]
    },
    {
      "cell_type": "code",
      "execution_count": 7,
      "metadata": {
        "id": "V-Dwb3T4dlvv"
      },
      "outputs": [],
      "source": [
        "sim.create_state_from_snapshot(snapshot)"
      ]
    },
    {
      "cell_type": "markdown",
      "metadata": {
        "id": "pBxK30HQdlvv"
      },
      "source": [
        "## Molecular dynamics classes\n",
        "\n",
        "The MD integrator numerically integrates the equations of motion:"
      ]
    },
    {
      "cell_type": "code",
      "execution_count": 8,
      "metadata": {
        "id": "z06Y_GvTdlvv"
      },
      "outputs": [],
      "source": [
        "integrator = hoomd.md.Integrator(dt=0.005)"
      ]
    },
    {
      "cell_type": "markdown",
      "metadata": {
        "id": "DfhGa8d-dlvv"
      },
      "source": [
        "You need a neighbor list to compte pairwise interactions:"
      ]
    },
    {
      "cell_type": "code",
      "execution_count": 9,
      "metadata": {
        "id": "G7Yt7_Y9dlvv"
      },
      "outputs": [],
      "source": [
        "cell = hoomd.md.nlist.Cell(buffer=0.4)"
      ]
    },
    {
      "cell_type": "code",
      "execution_count": 10,
      "metadata": {
        "id": "Of1yi2w1dlvw"
      },
      "outputs": [],
      "source": [
        "harmonic = hoomd.md.bond.Harmonic()\n",
        "harmonic.params['bond'] = dict(k=100.0, r0=1.2)\n",
        "integrator.forces.append(harmonic)"
      ]
    },
    {
      "cell_type": "markdown",
      "metadata": {
        "id": "nDu9ATiCdlvw"
      },
      "source": [
        "The integration **method** sets the specific equations of motion that apply to a subset of particles:"
      ]
    },
    {
      "cell_type": "code",
      "execution_count": 11,
      "metadata": {
        "id": "QP8hSUT-dlvw"
      },
      "outputs": [],
      "source": [
        "brownian = hoomd.md.methods.Brownian(filter=hoomd.filter.All(), kT=1.5)\n",
        "integrator.methods.append(brownian)\n",
        "sim.operations += integrator"
      ]
    },
    {
      "cell_type": "markdown",
      "metadata": {
        "id": "tLgcR3D2dlvx"
      },
      "source": [
        "## Logging energy and dump trajectory\n",
        "\n",
        "HOOMD-blue can log array quantities, such as the per particle energies. It can also include user-defined loggable quantities. Here we create a RadiusGyration class for logging, and include all logged quantities in a GSD trajectory:"
      ]
    },
    {
      "cell_type": "code",
      "source": [
        "class RadiusGyration(metaclass=hoomd.logging.Loggable):\n",
        "    def __init__(self, sim):\n",
        "      self.sim = sim\n",
        "    @hoomd.logging.log\n",
        "    def rg(self):\n",
        "      snap = self.sim.state.get_snapshot()\n",
        "      positions = snap.particles.position\n",
        "      N = positions.shape[0]\n",
        "      if N == 0:\n",
        "          return 0.0\n",
        "      r_cm = numpy.mean(positions, axis=0)\n",
        "      rg2 = numpy.sum(numpy.sum((positions - r_cm)**2, axis=1)) / N\n",
        "      return numpy.sqrt(rg2)"
      ],
      "metadata": {
        "id": "68QekuCJCe69"
      },
      "execution_count": 12,
      "outputs": []
    },
    {
      "cell_type": "code",
      "execution_count": 13,
      "metadata": {
        "id": "8WxzFwVPdlvx"
      },
      "outputs": [],
      "source": [
        "logger = hoomd.logging.Logger()\n",
        "logger.add(harmonic, quantities=[\"energies\", \"forces\"])\n",
        "radiusgyration = RadiusGyration(sim)\n",
        "logger.add(radiusgyration, quantities=['rg'])\n",
        "gsd_writer = hoomd.write.GSD(\n",
        "    filename=\"trajectory.gsd\",\n",
        "    trigger=hoomd.trigger.Periodic(100),\n",
        "    logger=logger,\n",
        "    mode=\"wb\",\n",
        "    filter=hoomd.filter.All()\n",
        ")\n",
        "sim.operations += gsd_writer"
      ]
    },
    {
      "cell_type": "markdown",
      "metadata": {
        "id": "1RK5Z1dYdlvw"
      },
      "source": [
        "## Running a molecular dynamics simulation"
      ]
    },
    {
      "cell_type": "code",
      "source": [
        "sim.run(10000)"
      ],
      "metadata": {
        "id": "HjAZR3DbkIim"
      },
      "execution_count": 14,
      "outputs": []
    },
    {
      "cell_type": "code",
      "source": [
        "gsd_writer.flush()"
      ],
      "metadata": {
        "id": "8IBhtntpwy2n"
      },
      "execution_count": 15,
      "outputs": []
    },
    {
      "cell_type": "code",
      "execution_count": 16,
      "metadata": {
        "id": "Ex56MqfWdlvw",
        "colab": {
          "base_uri": "https://localhost:8080/"
        },
        "outputId": "4327730c-364e-4174-c42f-acda448f26da"
      },
      "outputs": [
        {
          "output_type": "stream",
          "name": "stdout",
          "text": [
            "[[-5.17533272 -0.71866837 -1.45327305]\n",
            " [-4.93125238  0.25089898 -1.96417476]\n",
            " [-4.93658176  0.19077318 -2.71902849]\n",
            " [-4.15406544  0.52912471 -2.4306181 ]\n",
            " [-4.65515458  1.92975244 -2.1942831 ]]\n"
          ]
        }
      ],
      "source": [
        "snapshot=sim.state.get_snapshot()\n",
        "render(snapshot)\n",
        "print(snapshot.particles.position[0:5, :])"
      ]
    },
    {
      "cell_type": "markdown",
      "source": [
        "## Visualize the snapshots and retrieve the logged quantities"
      ],
      "metadata": {
        "id": "Q9V_-b3zDO21"
      }
    },
    {
      "cell_type": "code",
      "source": [
        "f = gsd.hoomd.open(\"trajectory.gsd\", mode=\"r\")"
      ],
      "metadata": {
        "id": "YPfHxjKmwkO_"
      },
      "execution_count": 17,
      "outputs": []
    },
    {
      "cell_type": "code",
      "source": [
        "f[0].log.keys()"
      ],
      "metadata": {
        "colab": {
          "base_uri": "https://localhost:8080/"
        },
        "id": "rB3l7ZBCwqtZ",
        "outputId": "9d004a73-1c36-4d46-defc-2f86478b0f8b"
      },
      "execution_count": 18,
      "outputs": [
        {
          "output_type": "execute_result",
          "data": {
            "text/plain": [
              "dict_keys(['particles/md/bond/Harmonic/energies', 'particles/md/bond/Harmonic/forces', 'RadiusGyration/rg'])"
            ]
          },
          "metadata": {},
          "execution_count": 18
        }
      ]
    },
    {
      "cell_type": "code",
      "execution_count": 19,
      "metadata": {
        "id": "Z4BY_Aifdlvx",
        "colab": {
          "base_uri": "https://localhost:8080/"
        },
        "outputId": "c2b6597d-7fcf-4ab6-965e-e9f92cdbcc8f"
      },
      "outputs": [
        {
          "output_type": "stream",
          "name": "stdout",
          "text": [
            "1.658588875869247 1.1367417361693224 [2.22114619]\n",
            "1.691182709491133 1.7716552377174015 [2.2203272]\n",
            "1.923065176714146 2.1292047814796984 [2.35872457]\n",
            "2.1289425296010798 2.746671824399193 [2.38501011]\n",
            "1.6118456147218223 1.5516717999634235 [2.63445933]\n",
            "1.9614538570479656 1.5942232181924125 [2.7995733]\n",
            "1.9071220642264795 1.7845961147783171 [2.83307499]\n",
            "1.9706125974637863 1.4351752549348518 [2.89589782]\n",
            "1.862534063620406 1.4982166820680243 [2.68023075]\n",
            "1.225987007877187 1.1725822986559504 [2.82140873]\n",
            "1.4741981453004431 1.7847504583037157 [2.58297892]\n",
            "2.27298212387221 2.3795679596156356 [2.57278451]\n",
            "2.156449501692643 1.9289435042951826 [2.53622177]\n",
            "2.0787521612174307 1.8851152079431506 [2.57705472]\n",
            "1.3982990892288252 1.4009229825495522 [2.63512789]\n",
            "1.634200586014608 1.3777730574524683 [2.80406357]\n",
            "1.3503901449371 1.5599730344321086 [2.74419751]\n",
            "1.7043713641892042 1.2527702032681924 [2.60559322]\n",
            "2.2937473786495124 2.024941298563502 [2.43936663]\n",
            "1.7785502297402274 1.9707296989870005 [2.40391373]\n",
            "1.5514959945107236 1.2329829748650347 [2.65013877]\n",
            "1.6963346735674032 1.424104464567283 [2.65313884]\n",
            "1.3594102112752153 0.9824216583263886 [2.76554924]\n",
            "1.434513236646681 1.3739590276579547 [2.75646327]\n",
            "1.4233355790633777 1.2774757268186339 [2.66388107]\n",
            "1.7328268646831888 1.4737151432188893 [2.50346335]\n",
            "2.379436388349914 2.151020506182224 [2.47693433]\n",
            "1.948897353971794 2.095552544648335 [2.56845104]\n",
            "1.1877853059656553 1.28959253859173 [2.80431582]\n",
            "1.6860350769159935 1.3780259003358453 [2.6861014]\n",
            "2.275961153193894 2.621666159375267 [2.58944632]\n",
            "1.106586437461814 1.2098150833126666 [2.51408244]\n",
            "1.3914952168691967 1.1611283970327928 [2.35630354]\n",
            "1.8797326361852889 2.001943080226429 [2.52435045]\n",
            "1.0186822979676473 1.0787343228423798 [2.66846613]\n",
            "1.6709457967957004 1.321671898581564 [2.53525966]\n",
            "2.4560558233542946 2.7945711640792363 [2.95062129]\n",
            "2.1286899700511612 2.1730224336782116 [3.07974718]\n",
            "1.743495871734241 1.792127957843796 [2.98049049]\n",
            "1.5991474545450535 0.9977345385803315 [3.13160448]\n",
            "1.8878822433617433 1.7687946242726327 [2.84409599]\n",
            "1.6012287680527835 1.4907290920444556 [3.07885525]\n",
            "1.7295514890830201 1.439175297959213 [2.95725184]\n",
            "1.540106829489097 1.389600450874204 [3.06890031]\n",
            "1.770049503290691 1.4326353357435904 [3.13642239]\n",
            "2.8569403577313386 2.3076554226075943 [3.24625595]\n",
            "1.3623625322821546 1.2170516650278915 [3.41069932]\n",
            "1.5033808922101255 1.8831937603811455 [3.31787117]\n",
            "1.6055263675645641 1.5329669300706381 [3.21735078]\n",
            "2.0731515679135324 2.365526370887442 [3.06967821]\n",
            "2.2918656572937213 1.5049384913700945 [2.99700334]\n",
            "1.9622394696113912 1.162028853799064 [3.08241625]\n",
            "1.4939434824934605 1.0960843044047268 [3.48189205]\n",
            "1.9255752652570979 1.8074524465595414 [3.62449754]\n",
            "1.4124037189925909 1.4954348095297527 [3.51056159]\n",
            "1.3626031208317428 1.8005593213500206 [3.46330764]\n",
            "1.256940480120498 1.2935235528273281 [3.15625947]\n",
            "1.7393396862702468 1.5294636396863974 [2.96635678]\n",
            "1.1810420329674391 0.9303271512359864 [2.84833521]\n",
            "1.6849436496814139 1.456375840440589 [2.67457754]\n",
            "1.320855785465306 0.8957932566723029 [2.91208649]\n",
            "1.6588385529911247 1.3499086535690907 [2.647414]\n",
            "2.553032612403355 1.8851280173360607 [2.8005476]\n",
            "3.357720014417213 4.428589449915973 [2.77752092]\n",
            "1.7129351956433954 1.3008960242707226 [2.78756944]\n",
            "1.7726061120301693 1.671766977130691 [2.92629681]\n",
            "2.1261295468932433 1.7666587241056093 [2.79802265]\n",
            "2.345907934184498 2.6583910423124797 [2.44853512]\n",
            "1.5974299296556485 2.11010039589904 [2.64095322]\n",
            "1.751939787562969 1.4985959078424493 [2.73219427]\n",
            "2.1421413715088637 1.555551002795782 [2.70550155]\n",
            "1.6640260371451319 1.541244294385903 [2.56644146]\n",
            "1.7399563584726057 1.401707934366207 [2.60207593]\n",
            "2.072394018569818 1.9227261289989794 [2.60708097]\n",
            "1.1971046988478287 1.0980866409544285 [2.53359347]\n",
            "2.1754169833286783 2.0981648770309462 [2.50162083]\n",
            "1.835496602889192 1.5114196201028542 [2.53438186]\n",
            "2.052187585994229 1.9952230431253304 [2.62527288]\n",
            "2.501798606624979 2.9979546750984007 [2.7534838]\n",
            "2.073587191863813 1.7714800220662088 [2.90802873]\n",
            "2.0493091388226854 2.761426532442322 [2.87361522]\n",
            "1.7993509187652952 1.4614999471946997 [3.01291386]\n",
            "1.6987985714245502 1.40889772776144 [2.77884971]\n",
            "1.8429497585049535 1.774710578959372 [2.91320234]\n",
            "2.5673574936855807 2.771193101085064 [2.88874705]\n",
            "1.6991196427528796 1.5464260463514052 [2.92569863]\n",
            "1.2478023124864384 1.0401720105567427 [2.86726377]\n",
            "1.5212606528994062 1.137430721962963 [2.67416107]\n",
            "1.498961070293446 1.6955966488097813 [2.68901617]\n",
            "2.273130869874067 1.9590327422936884 [2.61501564]\n",
            "1.8121937687419605 1.664628699020347 [2.6240509]\n",
            "1.998948434096316 1.9500964780813748 [2.50423642]\n",
            "0.9634029249499485 0.8603616151642329 [2.41132961]\n",
            "1.9949726857470964 1.6325770923968455 [2.33299415]\n",
            "1.3057291161110631 1.3681039818915568 [2.53099601]\n",
            "2.049646918547322 1.5947157838076265 [2.65141549]\n",
            "1.7775799249386037 1.3988369213033118 [2.82255397]\n",
            "1.5661220389653012 1.547982927066542 [2.94045739]\n",
            "1.4046270871540072 1.3150966769923773 [3.18559056]\n",
            "2.0218554925967966 1.7202806205380194 [3.32982055]\n"
          ]
        }
      ],
      "source": [
        "with gsd.hoomd.open('trajectory.gsd', 'r') as trajectory:\n",
        "    for frame in trajectory:\n",
        "        energies = frame.log['particles/md/bond/Harmonic/energies']\n",
        "        rg = frame.log['RadiusGyration/rg']\n",
        "        print(energies.mean(), energies.std(), rg)"
      ]
    },
    {
      "cell_type": "code",
      "source": [
        "render(f[-1])"
      ],
      "metadata": {
        "colab": {
          "base_uri": "https://localhost:8080/",
          "height": 417
        },
        "id": "zNDgDiKgDzLD",
        "outputId": "87f8ccb4-48b8-4c57-f380-3a5c96b4fab1"
      },
      "execution_count": 20,
      "outputs": [
        {
          "output_type": "execute_result",
          "data": {
            "image/png": "[encoded data removed]",
            "text/plain": [
              "<IPython.core.display.Image object>"
            ]
          },
          "metadata": {},
          "execution_count": 20
        }
      ]
    },
    {
      "cell_type": "markdown",
      "metadata": {
        "id": "zjMBNwDIdlvw"
      },
      "source": [
        "## Visualize trajectory\n",
        "\n",
        "You could download the \"trajectory.gsd\" and visualize it in OVITO software."
      ]
    },
    {
      "cell_type": "code",
      "source": [
        "from google.colab import files\n",
        "files.download('trajectory.gsd')"
      ],
      "metadata": {
        "colab": {
          "base_uri": "https://localhost:8080/",
          "height": 17
        },
        "id": "pZkWwrIxEr6i",
        "outputId": "a7c4a73f-2070-4e6f-db1a-24941014710d"
      },
      "execution_count": 21,
      "outputs": [
        {
          "output_type": "display_data",
          "data": {
            "text/plain": [
              "<IPython.core.display.Javascript object>"
            ],
            "application/javascript": [
              "\n",
              "    async function download(id, filename, size) {\n",
              "      if (!google.colab.kernel.accessAllowed) {\n",
              "        return;\n",
              "      }\n",
              "      const div = document.createElement('div');\n",
              "      const label = document.createElement('label');\n",
              "      label.textContent = `Downloading \"${filename}\": `;\n",
              "      div.appendChild(label);\n",
              "      const progress = document.createElement('progress');\n",
              "      progress.max = size;\n",
              "      div.appendChild(progress);\n",
              "      document.body.appendChild(div);\n",
              "\n",
              "      const buffers = [];\n",
              "      let downloaded = 0;\n",
              "\n",
              "      const channel = await google.colab.kernel.comms.open(id);\n",
              "      // Send a message to notify the kernel that we're ready.\n",
              "      channel.send({})\n",
              "\n",
              "      for await (const message of channel.messages) {\n",
              "        // Send a message to notify the kernel that we're ready.\n",
              "        channel.send({})\n",
              "        if (message.buffers) {\n",
              "          for (const buffer of message.buffers) {\n",
              "            buffers.push(buffer);\n",
              "            downloaded += buffer.byteLength;\n",
              "            progress.value = downloaded;\n",
              "          }\n",
              "        }\n",
              "      }\n",
              "      const blob = new Blob(buffers, {type: 'application/binary'});\n",
              "      const a = document.createElement('a');\n",
              "      a.href = window.URL.createObjectURL(blob);\n",
              "      a.download = filename;\n",
              "      div.appendChild(a);\n",
              "      a.click();\n",
              "      div.remove();\n",
              "    }\n",
              "  "
            ]
          },
          "metadata": {}
        },
        {
          "output_type": "display_data",
          "data": {
            "text/plain": [
              "<IPython.core.display.Javascript object>"
            ],
            "application/javascript": [
              "download(\"download_bf20991c-cf1a-4ce6-a4de-6ac7b0b79ebf\", \"trajectory.gsd\", 264521)"
            ]
          },
          "metadata": {}
        }
      ]
    }
  ],
  "metadata": {
    "kernelspec": {
      "display_name": "Python 3.9.13 ('venv')",
      "language": "python",
      "name": "python3"
    },
    "language_info": {
      "codemirror_mode": {
        "name": "ipython",
        "version": 3
      },
      "file_extension": ".py",
      "mimetype": "text/x-python",
      "name": "python",
      "nbconvert_exporter": "python",
      "pygments_lexer": "ipython3",
      "version": "3.11.2"
    },
    "vscode": {
      "interpreter": {
        "hash": "b698676187e8663f75837a5b59f7225e750401ff06561542669377ae3ea87bc4"
      }
    },
    "colab": {
      "provenance": [],
      "include_colab_link": true
    }
  },
  "nbformat": 4,
  "nbformat_minor": 0
}
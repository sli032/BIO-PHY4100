{
  "cells": [
    {
      "cell_type": "markdown",
      "metadata": {
        "id": "view-in-github",
        "colab_type": "text"
      },
      "source": [
        "<a href=\"https://colab.research.google.com/github/sli032/BIO-PHY4100/blob/main/DNA:RNA_polyer_modeling_HOOMD.ipynb\" target=\"_parent\"><img src=\"https://colab.research.google.com/assets/colab-badge.svg\" alt=\"Open In Colab\"/></a>"
      ]
    },
    {
      "cell_type": "markdown",
      "metadata": {
        "id": "ipbNfW6Gdlvu"
      },
      "source": [
        "## Installation & Render code\n",
        "\n",
        "Run the code only once, then click the arrow by \"Utility code\" to hide them."
      ]
    },
    {
      "cell_type": "code",
      "source": [
        "!pip install -q condacolab\n",
        "import condacolab\n",
        "condacolab.install()"
      ],
      "metadata": {
        "colab": {
          "base_uri": "https://localhost:8080/"
        },
        "id": "-xtGHK-zw7Bq",
        "outputId": "402e9b8d-4a4e-4d2a-9cd2-e1402b028746"
      },
      "execution_count": 1,
      "outputs": [
        {
          "output_type": "stream",
          "name": "stdout",
          "text": [
            "✨🍰✨ Everything looks OK!\n"
          ]
        }
      ]
    },
    {
      "cell_type": "code",
      "source": [
        "!conda install -c conda-forge hoomd gsd"
      ],
      "metadata": {
        "collapsed": true,
        "colab": {
          "base_uri": "https://localhost:8080/"
        },
        "id": "SgsvHo0_wv6g",
        "outputId": "26854b13-fdb6-4045-9acc-d8ee84882753"
      },
      "execution_count": 2,
      "outputs": [
        {
          "output_type": "stream",
          "name": "stdout",
          "text": [
            "Channels:\n",
            " - conda-forge\n",
            "Platform: linux-64\n",
            "Collecting package metadata (repodata.json): - \b\b\\ \b\b| \b\b/ \b\b- \b\b\\ \b\b| \b\b/ \b\b- \b\b\\ \b\b| \b\bdone\n",
            "Solving environment: - \b\b\\ \b\b| \b\b/ \b\b- \b\bdone\n",
            "\n",
            "\n",
            "==> WARNING: A newer version of conda exists. <==\n",
            "    current version: 24.11.3\n",
            "    latest version: 25.3.1\n",
            "\n",
            "Please update conda by running\n",
            "\n",
            "    $ conda update -n base -c conda-forge conda\n",
            "\n",
            "\n",
            "\n",
            "# All requested packages already installed.\n",
            "\n"
          ]
        }
      ]
    },
    {
      "cell_type": "code",
      "source": [
        "!conda install -c conda-forge fresnel freud"
      ],
      "metadata": {
        "collapsed": true,
        "colab": {
          "base_uri": "https://localhost:8080/"
        },
        "id": "vxZ09ZKcx6i-",
        "outputId": "90727f7a-dfa5-4255-fafc-f76fdf8574c0"
      },
      "execution_count": 3,
      "outputs": [
        {
          "output_type": "stream",
          "name": "stdout",
          "text": [
            "Channels:\n",
            " - conda-forge\n",
            "Platform: linux-64\n",
            "Collecting package metadata (repodata.json): - \b\b\\ \b\b| \b\b/ \b\b- \b\b\\ \b\b| \b\b/ \b\b- \b\b\\ \b\b| \b\b/ \b\b- \b\b\\ \b\b| \b\b/ \b\bdone\n",
            "Solving environment: \\ \b\b| \b\b/ \b\b- \b\bdone\n",
            "\n",
            "\n",
            "==> WARNING: A newer version of conda exists. <==\n",
            "    current version: 24.11.3\n",
            "    latest version: 25.3.1\n",
            "\n",
            "Please update conda by running\n",
            "\n",
            "    $ conda update -n base -c conda-forge conda\n",
            "\n",
            "\n",
            "\n",
            "# All requested packages already installed.\n",
            "\n"
          ]
        }
      ]
    },
    {
      "cell_type": "code",
      "execution_count": 4,
      "metadata": {
        "id": "6tgEPJG-dlvv"
      },
      "outputs": [],
      "source": [
        "import math\n",
        "import warnings\n",
        "\n",
        "import fresnel\n",
        "import freud\n",
        "import gsd.hoomd\n",
        "import hoomd\n",
        "import IPython\n",
        "import matplotlib\n",
        "import numpy\n",
        "import packaging.version\n",
        "\n",
        "device = fresnel.Device()\n",
        "tracer = fresnel.tracer.Path(device=device, w=400, h=400)\n",
        "\n",
        "FRESNEL_MIN_VERSION = packaging.version.parse(\"0.13.0\")\n",
        "FRESNEL_MAX_VERSION = packaging.version.parse(\"0.14.0\")\n",
        "\n",
        "\n",
        "def render(snapshot):\n",
        "    if ('version' not in dir(fresnel) or packaging.version.parse(\n",
        "            fresnel.version.version) < FRESNEL_MIN_VERSION\n",
        "            or packaging.version.parse(\n",
        "                fresnel.version.version) >= FRESNEL_MAX_VERSION):\n",
        "        warnings.warn(\n",
        "            f\"Unsupported fresnel version {fresnel.version.version} - expect errors.\"\n",
        "        )\n",
        "    L = snapshot.configuration.box[0]\n",
        "    scene = fresnel.Scene(device)\n",
        "    geometry = fresnel.geometry.Sphere(scene,\n",
        "                                       N=len(snapshot.particles.position),\n",
        "                                       radius=0.5)\n",
        "    geometry.material = fresnel.material.Material(color=fresnel.color.linear(\n",
        "        [252 / 255, 209 / 255, 1 / 255]),\n",
        "                                                  roughness=0.5)\n",
        "    geometry.position[:] = snapshot.particles.position[:]\n",
        "    geometry.outline_width = 0.04\n",
        "\n",
        "    if (hasattr(snapshot, 'log')\n",
        "            and 'particles/md/pair/LJ/energies' in snapshot.log):\n",
        "        energies = snapshot.log['particles/md/pair/LJ/energies']\n",
        "        mapper = matplotlib.cm.ScalarMappable(\n",
        "            norm=matplotlib.colors.Normalize(vmin=numpy.min(energies),\n",
        "                                             vmax=numpy.max(energies),\n",
        "                                             clip=True),\n",
        "            cmap=matplotlib.cm.get_cmap(name='viridis'))\n",
        "        geometry.color[:] = fresnel.color.linear(mapper.to_rgba(energies))\n",
        "        geometry.material.primitive_color_mix = 1\n",
        "\n",
        "    box = fresnel.geometry.Box(scene, [L, L, L, 0, 0, 0], box_radius=.02)\n",
        "\n",
        "    scene.lights = [\n",
        "        fresnel.light.Light(direction=(0, 0, 1),\n",
        "                            color=(0.8, 0.8, 0.8),\n",
        "                            theta=math.pi),\n",
        "        fresnel.light.Light(direction=(1, 1, 1),\n",
        "                            color=(1.1, 1.1, 1.1),\n",
        "                            theta=math.pi / 3)\n",
        "    ]\n",
        "    scene.camera = fresnel.camera.Orthographic(position=(L * 2, L, L * 2),\n",
        "                                               look_at=(0, 0, 0),\n",
        "                                               up=(0, 1, 0),\n",
        "                                               height=L * 1.4 + 1)\n",
        "    scene.background_color = (1, 1, 1)\n",
        "    return IPython.display.Image(tracer.sample(scene, samples=20)._repr_png_())\n",
        "\n",
        "\n",
        "warnings.filterwarnings('ignore', module='hoomd')"
      ]
    },
    {
      "cell_type": "markdown",
      "metadata": {
        "id": "c9vepx8Sdlvu"
      },
      "source": [
        "# Introducing molecular dynamics\n",
        "\n",
        "This hands-on workshop introduces the basic concepts of HOOMD-blue and will teach you how to run a molecular dynamics simulation. For more details, information that may be helpful when completing the exercises, see the [HOOMD-blue documentation](https://hoomd-blue.readthedocs.io/).\n",
        "\n",
        "**Google Colab users:** Click the \"Copy to Drive\" button in the toolbar to save this notebook and any edits that you make to your Google Drive."
      ]
    },
    {
      "cell_type": "markdown",
      "metadata": {
        "id": "9dBWj47Ddlvv"
      },
      "source": [
        "## Create the simulation and initial state\n"
      ]
    },
    {
      "cell_type": "code",
      "execution_count": 5,
      "metadata": {
        "id": "fuxmsl2gdlvv"
      },
      "outputs": [],
      "source": [
        "cpu = hoomd.device.CPU()\n",
        "sim = hoomd.Simulation(device=cpu, seed=2)"
      ]
    },
    {
      "cell_type": "code",
      "source": [
        "snapshot = hoomd.Snapshot()\n",
        "# box, positions = freud.data.UnitCell.bcc().generate_system(num_replicas=4,\n",
        "                                                          #  scale=1.5)\n",
        "\n",
        "a = 1\n",
        "chainN = 50\n",
        "\n",
        "particles = [[0.,0.,0.]]\n",
        "step = numpy.array([-a, 0., 0.])\n",
        "turnstep = numpy.array([0., a, 0.])\n",
        "upstep = numpy.array([0., 0., a])\n",
        "for i in range(1, chainN):\n",
        "  if i % 5 == 0:\n",
        "    step = -step\n",
        "    if (i/5) % 5 == 0:\n",
        "      particles.append(particles[-1] + upstep)\n",
        "      turnstep = -turnstep\n",
        "    else:\n",
        "      particles.append(particles[-1] + turnstep)\n",
        "  else:\n",
        "    particles.append(particles[-1] + step)\n",
        "bonds = [[i, i+1] for i in range(chainN - 1)]\n",
        "angles = [[i, i+1, i+2] for i in range(chainN - 2)]\n",
        "\n",
        "\n",
        "snapshot.particles.N = len(particles)\n",
        "snapshot.particles.position[:] = particles\n",
        "snapshot.particles.types = ['A']\n",
        "\n",
        "snapshot.bonds.N = len(bonds)\n",
        "snapshot.bonds.group[:] = bonds\n",
        "snapshot.bonds.types = ['bond']\n",
        "\n",
        "\n",
        "snapshot.angles.N = len(angles)\n",
        "snapshot.angles.group[:] = angles\n",
        "snapshot.angles.types = ['bend']\n",
        "\n",
        "snapshot.configuration.box = [50, 50, 50, 0, 0, 0]\n",
        "render(snapshot)\n",
        "\n",
        "# bodyid = -1\n",
        "\n",
        "# diameters = [size] * n\n",
        "# types = [ptypename] * n\n",
        "# bodyids = [bodyid] * n\n",
        "# moment_inertias = [moment_inertia] * n\n",
        "# masses = [mass] * n\n"
      ],
      "metadata": {
        "id": "sy1DBpnF5HPp",
        "outputId": "2f5b82d5-fa1f-4119-afe5-baef604a1f97",
        "colab": {
          "base_uri": "https://localhost:8080/",
          "height": 417
        }
      },
      "execution_count": 8,
      "outputs": [
        {
          "output_type": "execute_result",
          "data": {
            "image/png": "[encoded data removed]",
            "text/plain": [
              "<IPython.core.display.Image object>"
            ]
          },
          "metadata": {},
          "execution_count": 8
        }
      ]
    },
    {
      "cell_type": "code",
      "execution_count": 9,
      "metadata": {
        "id": "V-Dwb3T4dlvv"
      },
      "outputs": [],
      "source": [
        "sim.create_state_from_snapshot(snapshot)"
      ]
    },
    {
      "cell_type": "markdown",
      "metadata": {
        "id": "pBxK30HQdlvv"
      },
      "source": [
        "## Molecular dynamics classes\n",
        "\n",
        "The MD integrator numerically integrates the equations of motion:"
      ]
    },
    {
      "cell_type": "code",
      "execution_count": 10,
      "metadata": {
        "id": "z06Y_GvTdlvv"
      },
      "outputs": [],
      "source": [
        "integrator = hoomd.md.Integrator(dt=0.005)"
      ]
    },
    {
      "cell_type": "markdown",
      "metadata": {
        "id": "DfhGa8d-dlvv"
      },
      "source": [
        "You need a neighbor list to compte pairwise interactions:"
      ]
    },
    {
      "cell_type": "code",
      "execution_count": 11,
      "metadata": {
        "id": "G7Yt7_Y9dlvv"
      },
      "outputs": [],
      "source": [
        "cell = hoomd.md.nlist.Cell(buffer=0.4)"
      ]
    },
    {
      "cell_type": "code",
      "execution_count": 12,
      "metadata": {
        "id": "Of1yi2w1dlvw"
      },
      "outputs": [],
      "source": [
        "harmonic = hoomd.md.bond.Harmonic()\n",
        "harmonic.params['bond'] = dict(k=100.0, r0=1.2)\n",
        "integrator.forces.append(harmonic)\n",
        "# lj = hoomd.md.pair.LJ(nlist=cell)\n",
        "# lj.params[('A', 'A')] = dict(epsilon=1, sigma=1)"
      ]
    },
    {
      "cell_type": "markdown",
      "metadata": {
        "id": "nDu9ATiCdlvw"
      },
      "source": [
        "The integration **method** sets the specific equations of motion that apply to a subset of particles:"
      ]
    },
    {
      "cell_type": "code",
      "execution_count": 13,
      "metadata": {
        "id": "QP8hSUT-dlvw"
      },
      "outputs": [],
      "source": [
        "brownian = hoomd.md.methods.Brownian(filter=hoomd.filter.All(), kT=1.5)\n",
        "integrator.methods.append(brownian)\n",
        "sim.operations += integrator"
      ]
    },
    {
      "cell_type": "markdown",
      "metadata": {
        "id": "1RK5Z1dYdlvw"
      },
      "source": [
        "## Running a molecular dynamics simulation"
      ]
    },
    {
      "cell_type": "code",
      "execution_count": 43,
      "metadata": {
        "id": "8WxzFwVPdlvx"
      },
      "outputs": [],
      "source": [
        "array_logger = hoomd.logging.Logger()\n",
        "array_logger.add(harmonic, quantities=[\"energies\", \"forces\"])\n",
        "gsd_writer = hoomd.write.GSD(\n",
        "    filename=\"trajectory.gsd\",\n",
        "    trigger=hoomd.trigger.Periodic(100),\n",
        "    logger=array_logger,\n",
        "    mode=\"wb\",\n",
        "    filter=hoomd.filter.All(),\n",
        ")\n",
        "sim.operations += gsd_writer"
      ]
    },
    {
      "cell_type": "code",
      "source": [
        "sim.run(10000)"
      ],
      "metadata": {
        "id": "HjAZR3DbkIim"
      },
      "execution_count": 44,
      "outputs": []
    },
    {
      "cell_type": "code",
      "execution_count": 45,
      "metadata": {
        "id": "Ex56MqfWdlvw",
        "colab": {
          "base_uri": "https://localhost:8080/"
        },
        "outputId": "54b2b32c-2536-4105-a02b-ca69e5062bd8"
      },
      "outputs": [
        {
          "output_type": "stream",
          "name": "stdout",
          "text": [
            "[[-3.65012827  3.41169925 -2.08412431]\n",
            " [-3.42506878  2.37493461 -2.72981866]\n",
            " [-3.53935178  2.14272458 -1.58299669]\n",
            " [-3.58745346  3.07542081 -0.99999971]\n",
            " [-2.42769241  3.86235592 -1.18240954]]\n"
          ]
        }
      ],
      "source": [
        "print(sim.state.get_snapshot().particles.position[0:5, :])"
      ]
    },
    {
      "cell_type": "markdown",
      "metadata": {
        "id": "tLgcR3D2dlvx"
      },
      "source": [
        "## Logging energy and dump trajectory\n",
        "\n",
        "HOOMD-blue can log array quantities, such as the per particle energies.\n",
        "Include the logged quantities in a GSD trajectory:"
      ]
    },
    {
      "cell_type": "code",
      "execution_count": 47,
      "metadata": {
        "id": "Z4BY_Aifdlvx"
      },
      "outputs": [],
      "source": [
        "with gsd.hoomd.open('trajectory.gsd', 'r') as trajectory:\n",
        "    for frame in trajectory:\n",
        "        energies = frame.log['particles/md/pair/LJ/energies']\n",
        "        print(energies.mean(), energies.std())"
      ]
    },
    {
      "cell_type": "code",
      "execution_count": 48,
      "metadata": {
        "id": "6e9CDvH3dlvx",
        "colab": {
          "base_uri": "https://localhost:8080/",
          "height": 292
        },
        "outputId": "59367120-7c1c-497f-fd46-6b898a1b442f"
      },
      "outputs": [
        {
          "output_type": "error",
          "ename": "IndexError",
          "evalue": "",
          "traceback": [
            "\u001b[0;31m---------------------------------------------------------------------------\u001b[0m",
            "\u001b[0;31mIndexError\u001b[0m                                Traceback (most recent call last)",
            "\u001b[0;32m<ipython-input-48-f1caa4051a7e>\u001b[0m in \u001b[0;36m<cell line: 0>\u001b[0;34m()\u001b[0m\n\u001b[1;32m      1\u001b[0m \u001b[0;32mwith\u001b[0m \u001b[0mgsd\u001b[0m\u001b[0;34m.\u001b[0m\u001b[0mhoomd\u001b[0m\u001b[0;34m.\u001b[0m\u001b[0mopen\u001b[0m\u001b[0;34m(\u001b[0m\u001b[0;34m'trajectory.gsd'\u001b[0m\u001b[0;34m,\u001b[0m \u001b[0;34m'r'\u001b[0m\u001b[0;34m)\u001b[0m \u001b[0;32mas\u001b[0m \u001b[0mtrajectory\u001b[0m\u001b[0;34m:\u001b[0m\u001b[0;34m\u001b[0m\u001b[0;34m\u001b[0m\u001b[0m\n\u001b[0;32m----> 2\u001b[0;31m     \u001b[0mimage\u001b[0m \u001b[0;34m=\u001b[0m \u001b[0mrender\u001b[0m\u001b[0;34m(\u001b[0m\u001b[0mtrajectory\u001b[0m\u001b[0;34m[\u001b[0m\u001b[0;34m-\u001b[0m\u001b[0;36m1\u001b[0m\u001b[0;34m]\u001b[0m\u001b[0;34m)\u001b[0m\u001b[0;34m\u001b[0m\u001b[0;34m\u001b[0m\u001b[0m\n\u001b[0m\u001b[1;32m      3\u001b[0m \u001b[0mimage\u001b[0m\u001b[0;34m\u001b[0m\u001b[0;34m\u001b[0m\u001b[0m\n",
            "\u001b[0;32m/usr/local/lib/python3.11/site-packages/gsd/hoomd.py\u001b[0m in \u001b[0;36m__getitem__\u001b[0;34m(self, key)\u001b[0m\n\u001b[1;32m   1053\u001b[0m                 \u001b[0mkey\u001b[0m \u001b[0;34m+=\u001b[0m \u001b[0mlen\u001b[0m\u001b[0;34m(\u001b[0m\u001b[0mself\u001b[0m\u001b[0;34m)\u001b[0m\u001b[0;34m\u001b[0m\u001b[0;34m\u001b[0m\u001b[0m\n\u001b[1;32m   1054\u001b[0m             \u001b[0;32mif\u001b[0m \u001b[0mkey\u001b[0m \u001b[0;34m>=\u001b[0m \u001b[0mlen\u001b[0m\u001b[0;34m(\u001b[0m\u001b[0mself\u001b[0m\u001b[0;34m)\u001b[0m \u001b[0;32mor\u001b[0m \u001b[0mkey\u001b[0m \u001b[0;34m<\u001b[0m \u001b[0;36m0\u001b[0m\u001b[0;34m:\u001b[0m\u001b[0;34m\u001b[0m\u001b[0;34m\u001b[0m\u001b[0m\n\u001b[0;32m-> 1055\u001b[0;31m                 \u001b[0;32mraise\u001b[0m \u001b[0mIndexError\u001b[0m\u001b[0;34m(\u001b[0m\u001b[0;34m)\u001b[0m\u001b[0;34m\u001b[0m\u001b[0;34m\u001b[0m\u001b[0m\n\u001b[0m\u001b[1;32m   1056\u001b[0m             \u001b[0;32mreturn\u001b[0m \u001b[0mself\u001b[0m\u001b[0;34m.\u001b[0m\u001b[0m_read_frame\u001b[0m\u001b[0;34m(\u001b[0m\u001b[0mkey\u001b[0m\u001b[0;34m)\u001b[0m\u001b[0;34m\u001b[0m\u001b[0;34m\u001b[0m\u001b[0m\n\u001b[1;32m   1057\u001b[0m \u001b[0;34m\u001b[0m\u001b[0m\n",
            "\u001b[0;31mIndexError\u001b[0m: "
          ]
        }
      ],
      "source": [
        "with gsd.hoomd.open('trajectory.gsd', 'r') as trajectory:\n",
        "    image = render(trajectory[-1])\n",
        "image"
      ]
    },
    {
      "cell_type": "markdown",
      "metadata": {
        "id": "zjMBNwDIdlvw"
      },
      "source": [
        "## Define Rg and Log Rg\n",
        "\n",
        "Use a Logger to monitor how properties of the simulation vary during the run:"
      ]
    },
    {
      "cell_type": "code",
      "execution_count": 36,
      "metadata": {
        "id": "-JMwqospdlvw"
      },
      "outputs": [],
      "source": [
        "logger = hoomd.logging.Logger(categories=['scalar'])\n",
        "logger += sim\n",
        "logger.add(thermo, quantities=['potential_energy'])"
      ]
    },
    {
      "cell_type": "markdown",
      "metadata": {
        "id": "MuptePCadlvw"
      },
      "source": [
        "Use the `Table` writer to display the logged values:"
      ]
    },
    {
      "cell_type": "code",
      "execution_count": 37,
      "metadata": {
        "id": "EvmvinEndlvw"
      },
      "outputs": [],
      "source": [
        "table = hoomd.write.Table(trigger=hoomd.trigger.Periodic(100),\n",
        "                          logger=logger,\n",
        "                          max_header_len=5,\n",
        "                          max_precision=2)\n",
        "sim.operations += table"
      ]
    },
    {
      "cell_type": "markdown",
      "metadata": {
        "id": "P73SBt9zdlvx"
      },
      "source": [
        "Remove the table writer:"
      ]
    },
    {
      "cell_type": "code",
      "execution_count": 38,
      "metadata": {
        "id": "5PtEODL7dlvx"
      },
      "outputs": [],
      "source": [
        "sim.operations -= table"
      ]
    }
  ],
  "metadata": {
    "kernelspec": {
      "display_name": "Python 3.9.13 ('venv')",
      "language": "python",
      "name": "python3"
    },
    "language_info": {
      "codemirror_mode": {
        "name": "ipython",
        "version": 3
      },
      "file_extension": ".py",
      "mimetype": "text/x-python",
      "name": "python",
      "nbconvert_exporter": "python",
      "pygments_lexer": "ipython3",
      "version": "3.11.2"
    },
    "vscode": {
      "interpreter": {
        "hash": "b698676187e8663f75837a5b59f7225e750401ff06561542669377ae3ea87bc4"
      }
    },
    "colab": {
      "provenance": []
    }
  },
  "nbformat": 4,
  "nbformat_minor": 0
}
